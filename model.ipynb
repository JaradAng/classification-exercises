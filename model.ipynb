{
 "cells": [
  {
   "cell_type": "code",
   "execution_count": 47,
   "metadata": {},
   "outputs": [],
   "source": [
    "import pandas as pd\n",
    "import numpy as np\n",
    "from sklearn.tree import DecisionTreeClassifier, plot_tree, export_text\n",
    "from sklearn.metrics import classification_report, confusion_matrix\n",
    "from sklearn.ensemble import RandomForestClassifier\n",
    "from sklearn.neighbors import KNeighborsClassifier\n",
    "from sklearn.linear_model import LogisticRegression\n",
    "\n",
    "import seaborn as sns\n",
    "import acquire\n",
    "import titanic_prep\n",
    "import telco_prep\n",
    "import warnings as warn\n",
    "warn.filterwarnings(\"ignore\")\n",
    "import matplotlib.pyplot as plt\n",
    "\n",
    "\n",
    "from sklearn.model_selection import train_test_split\n",
    "from sklearn.impute import SimpleImputer\n",
    "\n"
   ]
  },
  {
   "cell_type": "code",
   "execution_count": 2,
   "metadata": {},
   "outputs": [
    {
     "data": {
      "text/html": [
       "<div>\n",
       "<style scoped>\n",
       "    .dataframe tbody tr th:only-of-type {\n",
       "        vertical-align: middle;\n",
       "    }\n",
       "\n",
       "    .dataframe tbody tr th {\n",
       "        vertical-align: top;\n",
       "    }\n",
       "\n",
       "    .dataframe thead th {\n",
       "        text-align: right;\n",
       "    }\n",
       "</style>\n",
       "<table border=\"1\" class=\"dataframe\">\n",
       "  <thead>\n",
       "    <tr style=\"text-align: right;\">\n",
       "      <th></th>\n",
       "      <th>Unnamed: 0</th>\n",
       "      <th>passenger_id</th>\n",
       "      <th>survived</th>\n",
       "      <th>pclass</th>\n",
       "      <th>sex</th>\n",
       "      <th>age</th>\n",
       "      <th>sibsp</th>\n",
       "      <th>parch</th>\n",
       "      <th>fare</th>\n",
       "      <th>embarked</th>\n",
       "      <th>class</th>\n",
       "      <th>deck</th>\n",
       "      <th>embark_town</th>\n",
       "      <th>alone</th>\n",
       "    </tr>\n",
       "  </thead>\n",
       "  <tbody>\n",
       "    <tr>\n",
       "      <th>0</th>\n",
       "      <td>0</td>\n",
       "      <td>0</td>\n",
       "      <td>0</td>\n",
       "      <td>3</td>\n",
       "      <td>male</td>\n",
       "      <td>22.0</td>\n",
       "      <td>1</td>\n",
       "      <td>0</td>\n",
       "      <td>7.2500</td>\n",
       "      <td>S</td>\n",
       "      <td>Third</td>\n",
       "      <td>NaN</td>\n",
       "      <td>Southampton</td>\n",
       "      <td>0</td>\n",
       "    </tr>\n",
       "    <tr>\n",
       "      <th>1</th>\n",
       "      <td>1</td>\n",
       "      <td>1</td>\n",
       "      <td>1</td>\n",
       "      <td>1</td>\n",
       "      <td>female</td>\n",
       "      <td>38.0</td>\n",
       "      <td>1</td>\n",
       "      <td>0</td>\n",
       "      <td>71.2833</td>\n",
       "      <td>C</td>\n",
       "      <td>First</td>\n",
       "      <td>C</td>\n",
       "      <td>Cherbourg</td>\n",
       "      <td>0</td>\n",
       "    </tr>\n",
       "    <tr>\n",
       "      <th>2</th>\n",
       "      <td>2</td>\n",
       "      <td>2</td>\n",
       "      <td>1</td>\n",
       "      <td>3</td>\n",
       "      <td>female</td>\n",
       "      <td>26.0</td>\n",
       "      <td>0</td>\n",
       "      <td>0</td>\n",
       "      <td>7.9250</td>\n",
       "      <td>S</td>\n",
       "      <td>Third</td>\n",
       "      <td>NaN</td>\n",
       "      <td>Southampton</td>\n",
       "      <td>1</td>\n",
       "    </tr>\n",
       "    <tr>\n",
       "      <th>3</th>\n",
       "      <td>3</td>\n",
       "      <td>3</td>\n",
       "      <td>1</td>\n",
       "      <td>1</td>\n",
       "      <td>female</td>\n",
       "      <td>35.0</td>\n",
       "      <td>1</td>\n",
       "      <td>0</td>\n",
       "      <td>53.1000</td>\n",
       "      <td>S</td>\n",
       "      <td>First</td>\n",
       "      <td>C</td>\n",
       "      <td>Southampton</td>\n",
       "      <td>0</td>\n",
       "    </tr>\n",
       "    <tr>\n",
       "      <th>4</th>\n",
       "      <td>4</td>\n",
       "      <td>4</td>\n",
       "      <td>0</td>\n",
       "      <td>3</td>\n",
       "      <td>male</td>\n",
       "      <td>35.0</td>\n",
       "      <td>0</td>\n",
       "      <td>0</td>\n",
       "      <td>8.0500</td>\n",
       "      <td>S</td>\n",
       "      <td>Third</td>\n",
       "      <td>NaN</td>\n",
       "      <td>Southampton</td>\n",
       "      <td>1</td>\n",
       "    </tr>\n",
       "  </tbody>\n",
       "</table>\n",
       "</div>"
      ],
      "text/plain": [
       "   Unnamed: 0  passenger_id  survived  pclass     sex   age  sibsp  parch  \\\n",
       "0           0             0         0       3    male  22.0      1      0   \n",
       "1           1             1         1       1  female  38.0      1      0   \n",
       "2           2             2         1       3  female  26.0      0      0   \n",
       "3           3             3         1       1  female  35.0      1      0   \n",
       "4           4             4         0       3    male  35.0      0      0   \n",
       "\n",
       "      fare embarked  class deck  embark_town  alone  \n",
       "0   7.2500        S  Third  NaN  Southampton      0  \n",
       "1  71.2833        C  First    C    Cherbourg      0  \n",
       "2   7.9250        S  Third  NaN  Southampton      1  \n",
       "3  53.1000        S  First    C  Southampton      0  \n",
       "4   8.0500        S  Third  NaN  Southampton      1  "
      ]
     },
     "execution_count": 2,
     "metadata": {},
     "output_type": "execute_result"
    }
   ],
   "source": [
    "titanic_df = acquire.get_titanic_data()\n",
    "\n",
    "titanic_df.head()"
   ]
  },
  {
   "cell_type": "code",
   "execution_count": 3,
   "metadata": {},
   "outputs": [],
   "source": [
    "\n",
    "titanic_df = titanic_df.drop_duplicates()\n",
    "titanic_df = titanic_df.drop(columns=['deck', 'embarked', 'class', 'passenger_id', 'Unnamed: 0'])\n",
    "titanic_df['embark_town'] = titanic_df.embark_town.fillna(value='Southampton')\n",
    "dummy_df = pd.get_dummies(titanic_df[['sex', 'embark_town']], drop_first=True)\n",
    "titanic_df = pd.concat([titanic_df, dummy_df], axis=1)"
   ]
  },
  {
   "cell_type": "code",
   "execution_count": 4,
   "metadata": {},
   "outputs": [
    {
     "data": {
      "text/html": [
       "<div>\n",
       "<style scoped>\n",
       "    .dataframe tbody tr th:only-of-type {\n",
       "        vertical-align: middle;\n",
       "    }\n",
       "\n",
       "    .dataframe tbody tr th {\n",
       "        vertical-align: top;\n",
       "    }\n",
       "\n",
       "    .dataframe thead th {\n",
       "        text-align: right;\n",
       "    }\n",
       "</style>\n",
       "<table border=\"1\" class=\"dataframe\">\n",
       "  <thead>\n",
       "    <tr style=\"text-align: right;\">\n",
       "      <th></th>\n",
       "      <th>survived</th>\n",
       "      <th>pclass</th>\n",
       "      <th>sex</th>\n",
       "      <th>age</th>\n",
       "      <th>sibsp</th>\n",
       "      <th>parch</th>\n",
       "      <th>fare</th>\n",
       "      <th>embark_town</th>\n",
       "      <th>alone</th>\n",
       "      <th>sex_male</th>\n",
       "      <th>embark_town_Queenstown</th>\n",
       "      <th>embark_town_Southampton</th>\n",
       "    </tr>\n",
       "  </thead>\n",
       "  <tbody>\n",
       "    <tr>\n",
       "      <th>0</th>\n",
       "      <td>0</td>\n",
       "      <td>3</td>\n",
       "      <td>male</td>\n",
       "      <td>22.0</td>\n",
       "      <td>1</td>\n",
       "      <td>0</td>\n",
       "      <td>7.2500</td>\n",
       "      <td>Southampton</td>\n",
       "      <td>0</td>\n",
       "      <td>1</td>\n",
       "      <td>0</td>\n",
       "      <td>1</td>\n",
       "    </tr>\n",
       "    <tr>\n",
       "      <th>1</th>\n",
       "      <td>1</td>\n",
       "      <td>1</td>\n",
       "      <td>female</td>\n",
       "      <td>38.0</td>\n",
       "      <td>1</td>\n",
       "      <td>0</td>\n",
       "      <td>71.2833</td>\n",
       "      <td>Cherbourg</td>\n",
       "      <td>0</td>\n",
       "      <td>0</td>\n",
       "      <td>0</td>\n",
       "      <td>0</td>\n",
       "    </tr>\n",
       "    <tr>\n",
       "      <th>2</th>\n",
       "      <td>1</td>\n",
       "      <td>3</td>\n",
       "      <td>female</td>\n",
       "      <td>26.0</td>\n",
       "      <td>0</td>\n",
       "      <td>0</td>\n",
       "      <td>7.9250</td>\n",
       "      <td>Southampton</td>\n",
       "      <td>1</td>\n",
       "      <td>0</td>\n",
       "      <td>0</td>\n",
       "      <td>1</td>\n",
       "    </tr>\n",
       "    <tr>\n",
       "      <th>3</th>\n",
       "      <td>1</td>\n",
       "      <td>1</td>\n",
       "      <td>female</td>\n",
       "      <td>35.0</td>\n",
       "      <td>1</td>\n",
       "      <td>0</td>\n",
       "      <td>53.1000</td>\n",
       "      <td>Southampton</td>\n",
       "      <td>0</td>\n",
       "      <td>0</td>\n",
       "      <td>0</td>\n",
       "      <td>1</td>\n",
       "    </tr>\n",
       "    <tr>\n",
       "      <th>4</th>\n",
       "      <td>0</td>\n",
       "      <td>3</td>\n",
       "      <td>male</td>\n",
       "      <td>35.0</td>\n",
       "      <td>0</td>\n",
       "      <td>0</td>\n",
       "      <td>8.0500</td>\n",
       "      <td>Southampton</td>\n",
       "      <td>1</td>\n",
       "      <td>1</td>\n",
       "      <td>0</td>\n",
       "      <td>1</td>\n",
       "    </tr>\n",
       "  </tbody>\n",
       "</table>\n",
       "</div>"
      ],
      "text/plain": [
       "   survived  pclass     sex   age  sibsp  parch     fare  embark_town  alone  \\\n",
       "0         0       3    male  22.0      1      0   7.2500  Southampton      0   \n",
       "1         1       1  female  38.0      1      0  71.2833    Cherbourg      0   \n",
       "2         1       3  female  26.0      0      0   7.9250  Southampton      1   \n",
       "3         1       1  female  35.0      1      0  53.1000  Southampton      0   \n",
       "4         0       3    male  35.0      0      0   8.0500  Southampton      1   \n",
       "\n",
       "   sex_male  embark_town_Queenstown  embark_town_Southampton  \n",
       "0         1                       0                        1  \n",
       "1         0                       0                        0  \n",
       "2         0                       0                        1  \n",
       "3         0                       0                        1  \n",
       "4         1                       0                        1  "
      ]
     },
     "execution_count": 4,
     "metadata": {},
     "output_type": "execute_result"
    }
   ],
   "source": [
    "titanic_df.head()"
   ]
  },
  {
   "cell_type": "code",
   "execution_count": 5,
   "metadata": {},
   "outputs": [
    {
     "name": "stdout",
     "output_type": "stream",
     "text": [
      "train -> (498, 12)\n",
      "validate -> (214, 12)\n",
      "test -> (179, 12)\n"
     ]
    }
   ],
   "source": [
    "\n",
    "titanic_train, titanic_test = train_test_split(titanic_df, test_size=.2, random_state=123, stratify=titanic_df.survived)\n",
    "titanic_train, titanic_validate = train_test_split(titanic_train, test_size=.3, random_state=123, stratify=titanic_train.survived)\n",
    "\n",
    "# Validate my split\n",
    "\n",
    "print(f'train -> {titanic_train.shape}')\n",
    "print(f'validate -> {titanic_validate.shape}')\n",
    "print(f'test -> {titanic_test.shape}')\n"
   ]
  },
  {
   "cell_type": "code",
   "execution_count": 6,
   "metadata": {},
   "outputs": [],
   "source": [
    "imputer = SimpleImputer(missing_values = None, strategy='most_frequent')\n",
    "\n",
    "imputer = imputer.fit(titanic_train[['embark_town']])\n"
   ]
  },
  {
   "cell_type": "code",
   "execution_count": 7,
   "metadata": {},
   "outputs": [],
   "source": [
    "titanic_train[['embark_town']] = imputer.transform(titanic_train[['embark_town']])\n",
    "\n",
    "titanic_validate[['embark_town']] = imputer.transform(titanic_validate[['embark_town']])\n",
    "\n",
    "titanic_test[['embark_town']] = imputer.transform(titanic_test[['embark_town']])\n"
   ]
  },
  {
   "cell_type": "code",
   "execution_count": 40,
   "metadata": {},
   "outputs": [
    {
     "data": {
      "text/html": [
       "<div>\n",
       "<style scoped>\n",
       "    .dataframe tbody tr th:only-of-type {\n",
       "        vertical-align: middle;\n",
       "    }\n",
       "\n",
       "    .dataframe tbody tr th {\n",
       "        vertical-align: top;\n",
       "    }\n",
       "\n",
       "    .dataframe thead th {\n",
       "        text-align: right;\n",
       "    }\n",
       "</style>\n",
       "<table border=\"1\" class=\"dataframe\">\n",
       "  <thead>\n",
       "    <tr style=\"text-align: right;\">\n",
       "      <th></th>\n",
       "      <th>survived</th>\n",
       "      <th>pclass</th>\n",
       "      <th>sex</th>\n",
       "      <th>age</th>\n",
       "      <th>sibsp</th>\n",
       "      <th>parch</th>\n",
       "      <th>fare</th>\n",
       "      <th>embark_town</th>\n",
       "      <th>alone</th>\n",
       "      <th>sex_male</th>\n",
       "      <th>embark_town_Queenstown</th>\n",
       "      <th>embark_town_Southampton</th>\n",
       "    </tr>\n",
       "  </thead>\n",
       "  <tbody>\n",
       "    <tr>\n",
       "      <th>583</th>\n",
       "      <td>0</td>\n",
       "      <td>1</td>\n",
       "      <td>male</td>\n",
       "      <td>36.0</td>\n",
       "      <td>0</td>\n",
       "      <td>0</td>\n",
       "      <td>40.1250</td>\n",
       "      <td>Cherbourg</td>\n",
       "      <td>1</td>\n",
       "      <td>1</td>\n",
       "      <td>0</td>\n",
       "      <td>0</td>\n",
       "    </tr>\n",
       "    <tr>\n",
       "      <th>165</th>\n",
       "      <td>1</td>\n",
       "      <td>3</td>\n",
       "      <td>male</td>\n",
       "      <td>9.0</td>\n",
       "      <td>0</td>\n",
       "      <td>2</td>\n",
       "      <td>20.5250</td>\n",
       "      <td>Southampton</td>\n",
       "      <td>0</td>\n",
       "      <td>1</td>\n",
       "      <td>0</td>\n",
       "      <td>1</td>\n",
       "    </tr>\n",
       "    <tr>\n",
       "      <th>50</th>\n",
       "      <td>0</td>\n",
       "      <td>3</td>\n",
       "      <td>male</td>\n",
       "      <td>7.0</td>\n",
       "      <td>4</td>\n",
       "      <td>1</td>\n",
       "      <td>39.6875</td>\n",
       "      <td>Southampton</td>\n",
       "      <td>0</td>\n",
       "      <td>1</td>\n",
       "      <td>0</td>\n",
       "      <td>1</td>\n",
       "    </tr>\n",
       "    <tr>\n",
       "      <th>259</th>\n",
       "      <td>1</td>\n",
       "      <td>2</td>\n",
       "      <td>female</td>\n",
       "      <td>50.0</td>\n",
       "      <td>0</td>\n",
       "      <td>1</td>\n",
       "      <td>26.0000</td>\n",
       "      <td>Southampton</td>\n",
       "      <td>0</td>\n",
       "      <td>0</td>\n",
       "      <td>0</td>\n",
       "      <td>1</td>\n",
       "    </tr>\n",
       "    <tr>\n",
       "      <th>306</th>\n",
       "      <td>1</td>\n",
       "      <td>1</td>\n",
       "      <td>female</td>\n",
       "      <td>NaN</td>\n",
       "      <td>0</td>\n",
       "      <td>0</td>\n",
       "      <td>110.8833</td>\n",
       "      <td>Cherbourg</td>\n",
       "      <td>1</td>\n",
       "      <td>0</td>\n",
       "      <td>0</td>\n",
       "      <td>0</td>\n",
       "    </tr>\n",
       "  </tbody>\n",
       "</table>\n",
       "</div>"
      ],
      "text/plain": [
       "     survived  pclass     sex   age  sibsp  parch      fare  embark_town  \\\n",
       "583         0       1    male  36.0      0      0   40.1250    Cherbourg   \n",
       "165         1       3    male   9.0      0      2   20.5250  Southampton   \n",
       "50          0       3    male   7.0      4      1   39.6875  Southampton   \n",
       "259         1       2  female  50.0      0      1   26.0000  Southampton   \n",
       "306         1       1  female   NaN      0      0  110.8833    Cherbourg   \n",
       "\n",
       "     alone  sex_male  embark_town_Queenstown  embark_town_Southampton  \n",
       "583      1         1                       0                        0  \n",
       "165      0         1                       0                        1  \n",
       "50       0         1                       0                        1  \n",
       "259      0         0                       0                        1  \n",
       "306      1         0                       0                        0  "
      ]
     },
     "execution_count": 40,
     "metadata": {},
     "output_type": "execute_result"
    }
   ],
   "source": [
    "\n",
    "titanic_train.embark_town.value_counts(dropna=False)\n",
    "\n",
    "titanic_train.head()"
   ]
  },
  {
   "cell_type": "code",
   "execution_count": 9,
   "metadata": {},
   "outputs": [
    {
     "data": {
      "image/png": "[encoded data removed]",
      "text/plain": [
       "<Figure size 432x288 with 1 Axes>"
      ]
     },
     "metadata": {
      "needs_background": "light"
     },
     "output_type": "display_data"
    },
    {
     "data": {
      "image/png": "[encoded data removed]",
      "text/plain": [
       "<Figure size 432x288 with 1 Axes>"
      ]
     },
     "metadata": {
      "needs_background": "light"
     },
     "output_type": "display_data"
    },
    {
     "data": {
      "image/png": "[encoded data removed]",
      "text/plain": [
       "<Figure size 432x288 with 1 Axes>"
      ]
     },
     "metadata": {
      "needs_background": "light"
     },
     "output_type": "display_data"
    },
    {
     "data": {
      "image/png": "[encoded data removed]",
      "text/plain": [
       "<Figure size 432x288 with 1 Axes>"
      ]
     },
     "metadata": {
      "needs_background": "light"
     },
     "output_type": "display_data"
    },
    {
     "data": {
      "image/png": "[encoded data removed]",
      "text/plain": [
       "<Figure size 432x288 with 1 Axes>"
      ]
     },
     "metadata": {
      "needs_background": "light"
     },
     "output_type": "display_data"
    },
    {
     "data": {
      "image/png": "[encoded data removed]",
      "text/plain": [
       "<Figure size 432x288 with 1 Axes>"
      ]
     },
     "metadata": {
      "needs_background": "light"
     },
     "output_type": "display_data"
    },
    {
     "data": {
      "image/png": "[encoded data removed]",
      "text/plain": [
       "<Figure size 432x288 with 1 Axes>"
      ]
     },
     "metadata": {
      "needs_background": "light"
     },
     "output_type": "display_data"
    },
    {
     "data": {
      "image/png": "[encoded data removed]",
      "text/plain": [
       "<Figure size 432x288 with 1 Axes>"
      ]
     },
     "metadata": {
      "needs_background": "light"
     },
     "output_type": "display_data"
    },
    {
     "data": {
      "image/png": "[encoded data removed]",
      "text/plain": [
       "<Figure size 432x288 with 1 Axes>"
      ]
     },
     "metadata": {
      "needs_background": "light"
     },
     "output_type": "display_data"
    },
    {
     "data": {
      "image/png": "[encoded data removed]",
      "text/plain": [
       "<Figure size 432x288 with 1 Axes>"
      ]
     },
     "metadata": {
      "needs_background": "light"
     },
     "output_type": "display_data"
    },
    {
     "data": {
      "image/png": "[encoded data removed]",
      "text/plain": [
       "<Figure size 432x288 with 1 Axes>"
      ]
     },
     "metadata": {
      "needs_background": "light"
     },
     "output_type": "display_data"
    },
    {
     "data": {
      "image/png": "[encoded data removed]",
      "text/plain": [
       "<Figure size 432x288 with 1 Axes>"
      ]
     },
     "metadata": {
      "needs_background": "light"
     },
     "output_type": "display_data"
    },
    {
     "data": {
      "image/png": "[encoded data removed]",
      "text/plain": [
       "<Figure size 432x288 with 1 Axes>"
      ]
     },
     "metadata": {
      "needs_background": "light"
     },
     "output_type": "display_data"
    },
    {
     "data": {
      "image/png": "[encoded data removed]",
      "text/plain": [
       "<Figure size 432x288 with 1 Axes>"
      ]
     },
     "metadata": {
      "needs_background": "light"
     },
     "output_type": "display_data"
    }
   ],
   "source": [
    "num_cols = titanic_train.columns[[(titanic_train[col].dtype == 'int64') or (titanic_train[col].dtype == 'float64') for col in titanic_train.columns]]\n",
    "for col in num_cols:\n",
    "    plt.hist(titanic_train[col])\n",
    "    plt.title(col)\n",
    "    plt.show()\n",
    "    plt.boxplot(titanic_train[col])\n",
    "    plt.title(col)\n",
    "    plt.show()"
   ]
  },
  {
   "cell_type": "markdown",
   "metadata": {},
   "source": [
    "First graph shows that most passengers did not survive\n",
    "\n",
    "We can see by the class chart that the majority were in 3rd class with not much difference between 1st and 2nd\n",
    "\n",
    "the age chart shows that we see most the passengers were in their 20s and drops off both sides, not quite normal distributions\n",
    "\n",
    "The sibling chart shows a few outliers but the majority did not have siblings on the ship, the same can be applied for parents with children\n",
    "\n",
    "Fare graph shows the vast majority paid under 50 with the second most popular tickets being under 100 \n",
    "\n",
    "The last graph shows that more than half the passengers were traveling alone. "
   ]
  },
  {
   "cell_type": "code",
   "execution_count": 10,
   "metadata": {},
   "outputs": [
    {
     "data": {
      "text/html": [
       "<div>\n",
       "<style scoped>\n",
       "    .dataframe tbody tr th:only-of-type {\n",
       "        vertical-align: middle;\n",
       "    }\n",
       "\n",
       "    .dataframe tbody tr th {\n",
       "        vertical-align: top;\n",
       "    }\n",
       "\n",
       "    .dataframe thead th {\n",
       "        text-align: right;\n",
       "    }\n",
       "</style>\n",
       "<table border=\"1\" class=\"dataframe\">\n",
       "  <thead>\n",
       "    <tr style=\"text-align: right;\">\n",
       "      <th></th>\n",
       "      <th>survived</th>\n",
       "      <th>pclass</th>\n",
       "      <th>sex</th>\n",
       "      <th>age</th>\n",
       "      <th>sibsp</th>\n",
       "      <th>parch</th>\n",
       "      <th>fare</th>\n",
       "      <th>embark_town</th>\n",
       "      <th>alone</th>\n",
       "      <th>sex_male</th>\n",
       "      <th>embark_town_Queenstown</th>\n",
       "      <th>embark_town_Southampton</th>\n",
       "    </tr>\n",
       "  </thead>\n",
       "  <tbody>\n",
       "    <tr>\n",
       "      <th>583</th>\n",
       "      <td>0</td>\n",
       "      <td>1</td>\n",
       "      <td>male</td>\n",
       "      <td>36.0</td>\n",
       "      <td>0</td>\n",
       "      <td>0</td>\n",
       "      <td>40.1250</td>\n",
       "      <td>Cherbourg</td>\n",
       "      <td>1</td>\n",
       "      <td>1</td>\n",
       "      <td>0</td>\n",
       "      <td>0</td>\n",
       "    </tr>\n",
       "    <tr>\n",
       "      <th>165</th>\n",
       "      <td>1</td>\n",
       "      <td>3</td>\n",
       "      <td>male</td>\n",
       "      <td>9.0</td>\n",
       "      <td>0</td>\n",
       "      <td>2</td>\n",
       "      <td>20.5250</td>\n",
       "      <td>Southampton</td>\n",
       "      <td>0</td>\n",
       "      <td>1</td>\n",
       "      <td>0</td>\n",
       "      <td>1</td>\n",
       "    </tr>\n",
       "    <tr>\n",
       "      <th>50</th>\n",
       "      <td>0</td>\n",
       "      <td>3</td>\n",
       "      <td>male</td>\n",
       "      <td>7.0</td>\n",
       "      <td>4</td>\n",
       "      <td>1</td>\n",
       "      <td>39.6875</td>\n",
       "      <td>Southampton</td>\n",
       "      <td>0</td>\n",
       "      <td>1</td>\n",
       "      <td>0</td>\n",
       "      <td>1</td>\n",
       "    </tr>\n",
       "    <tr>\n",
       "      <th>259</th>\n",
       "      <td>1</td>\n",
       "      <td>2</td>\n",
       "      <td>female</td>\n",
       "      <td>50.0</td>\n",
       "      <td>0</td>\n",
       "      <td>1</td>\n",
       "      <td>26.0000</td>\n",
       "      <td>Southampton</td>\n",
       "      <td>0</td>\n",
       "      <td>0</td>\n",
       "      <td>0</td>\n",
       "      <td>1</td>\n",
       "    </tr>\n",
       "    <tr>\n",
       "      <th>306</th>\n",
       "      <td>1</td>\n",
       "      <td>1</td>\n",
       "      <td>female</td>\n",
       "      <td>NaN</td>\n",
       "      <td>0</td>\n",
       "      <td>0</td>\n",
       "      <td>110.8833</td>\n",
       "      <td>Cherbourg</td>\n",
       "      <td>1</td>\n",
       "      <td>0</td>\n",
       "      <td>0</td>\n",
       "      <td>0</td>\n",
       "    </tr>\n",
       "  </tbody>\n",
       "</table>\n",
       "</div>"
      ],
      "text/plain": [
       "     survived  pclass     sex   age  sibsp  parch      fare  embark_town  \\\n",
       "583         0       1    male  36.0      0      0   40.1250    Cherbourg   \n",
       "165         1       3    male   9.0      0      2   20.5250  Southampton   \n",
       "50          0       3    male   7.0      4      1   39.6875  Southampton   \n",
       "259         1       2  female  50.0      0      1   26.0000  Southampton   \n",
       "306         1       1  female   NaN      0      0  110.8833    Cherbourg   \n",
       "\n",
       "     alone  sex_male  embark_town_Queenstown  embark_town_Southampton  \n",
       "583      1         1                       0                        0  \n",
       "165      0         1                       0                        1  \n",
       "50       0         1                       0                        1  \n",
       "259      0         0                       0                        1  \n",
       "306      1         0                       0                        0  "
      ]
     },
     "execution_count": 10,
     "metadata": {},
     "output_type": "execute_result"
    }
   ],
   "source": [
    "titanic_train.head()"
   ]
  },
  {
   "cell_type": "markdown",
   "metadata": {},
   "source": [
    "Below I will graph a few variables against survival rate to find any relationships between the two"
   ]
  },
  {
   "cell_type": "code",
   "execution_count": 11,
   "metadata": {},
   "outputs": [
    {
     "data": {
      "image/png": "[encoded data removed]",
      "text/plain": [
       "<Figure size 432x288 with 1 Axes>"
      ]
     },
     "metadata": {
      "needs_background": "light"
     },
     "output_type": "display_data"
    },
    {
     "data": {
      "image/png": "[encoded data removed]",
      "text/plain": [
       "<Figure size 432x288 with 1 Axes>"
      ]
     },
     "metadata": {
      "needs_background": "light"
     },
     "output_type": "display_data"
    },
    {
     "data": {
      "image/png": "[encoded data removed]",
      "text/plain": [
       "<Figure size 432x288 with 1 Axes>"
      ]
     },
     "metadata": {
      "needs_background": "light"
     },
     "output_type": "display_data"
    },
    {
     "data": {
      "image/png": "[encoded data removed]",
      "text/plain": [
       "<Figure size 432x288 with 1 Axes>"
      ]
     },
     "metadata": {
      "needs_background": "light"
     },
     "output_type": "display_data"
    },
    {
     "data": {
      "image/png": "[encoded data removed]",
      "text/plain": [
       "<Figure size 432x288 with 1 Axes>"
      ]
     },
     "metadata": {
      "needs_background": "light"
     },
     "output_type": "display_data"
    }
   ],
   "source": [
    "variables = ['pclass','fare','sex_male', 'alone', 'embark_town_Queenstown', 'age']\n",
    "\n",
    "mean = [titanic_train['pclass'].mean(), titanic_train['fare'].mean(), titanic_train['sex_male'].mean(), titanic_train['alone'].mean(), titanic_train['embark_town_Queenstown'].mean(), titanic_train['age'].mean()]\n",
    "\n",
    "for x in range(0,5):\n",
    "    sns.barplot('survived',variables[x], data=titanic_train)\n",
    "    \n",
    "    plt.xlabel('')\n",
    "    plt.title(variables[x])\n",
    "    plt.axhline(mean[x], ls = '--', color = 'black')\n",
    "    plt.show()"
   ]
  },
  {
   "cell_type": "markdown",
   "metadata": {},
   "source": [
    "### Model Exercises\n",
    "\n",
    "What is your baseline prediction? What is your baseline accuracy? remember: your baseline prediction for a classification problem is predicting the most prevelant class in the training dataset (the mode). When you make those predictions, what is your accuracy? This is your baseline accuracy."
   ]
  },
  {
   "cell_type": "markdown",
   "metadata": {},
   "source": [
    "Baseline prediction is not survived becuase it is the most common with a baseline accuracy of 61.6%"
   ]
  },
  {
   "cell_type": "code",
   "execution_count": 8,
   "metadata": {},
   "outputs": [
    {
     "data": {
      "text/plain": [
       "survived                     0\n",
       "pclass                       0\n",
       "sex                          0\n",
       "age                        177\n",
       "sibsp                        0\n",
       "parch                        0\n",
       "fare                         0\n",
       "embark_town                  0\n",
       "alone                        0\n",
       "sex_male                     0\n",
       "embark_town_Queenstown       0\n",
       "embark_town_Southampton      0\n",
       "dtype: int64"
      ]
     },
     "execution_count": 8,
     "metadata": {},
     "output_type": "execute_result"
    }
   ],
   "source": [
    "titanic_df.isnull().sum()"
   ]
  },
  {
   "cell_type": "code",
   "execution_count": 10,
   "metadata": {},
   "outputs": [
    {
     "data": {
      "text/plain": [
       "(0    307\n",
       " 1    191\n",
       " Name: survived, dtype: int64,\n",
       " (498, 12))"
      ]
     },
     "execution_count": 10,
     "metadata": {},
     "output_type": "execute_result"
    }
   ],
   "source": [
    "titanic_train['survived'].value_counts(), titanic_train.shape"
   ]
  },
  {
   "cell_type": "code",
   "execution_count": 11,
   "metadata": {},
   "outputs": [],
   "source": [
    "baseline_pred = 307 / 498\n",
    "\n",
    "baseline_pred\n",
    "\n",
    "titanic_train['baseline'] = 0\n",
    "\n",
    "## Baseline prediction is 61.6% and made the baseline column set to zero"
   ]
  },
  {
   "cell_type": "markdown",
   "metadata": {},
   "source": [
    "Fit the decision tree classifier to your training sample and transform (i.e. make predictions on the training sample)"
   ]
  },
  {
   "cell_type": "code",
   "execution_count": 14,
   "metadata": {},
   "outputs": [],
   "source": [
    "x_vars = ['pclass','fare','sex_male', 'alone']\n",
    "y_vars = 'survived'\n",
    "\n",
    "X_train, y_train = titanic_train[x_vars], titanic_train[y_vars]\n",
    "x_validate, y_validate = titanic_validate[x_vars], titanic_validate[y_vars]\n",
    "x_test, y_test = titanic_test[x_vars], titanic_test[y_vars]"
   ]
  },
  {
   "cell_type": "code",
   "execution_count": 16,
   "metadata": {},
   "outputs": [
    {
     "data": {
      "text/plain": [
       "((214, 4), (214,))"
      ]
     },
     "execution_count": 16,
     "metadata": {},
     "output_type": "execute_result"
    }
   ],
   "source": [
    "x_validate.shape, y_validate.shape"
   ]
  },
  {
   "cell_type": "code",
   "execution_count": 17,
   "metadata": {},
   "outputs": [],
   "source": [
    "tree = DecisionTreeClassifier(max_depth=3, random_state=100)"
   ]
  },
  {
   "cell_type": "code",
   "execution_count": 19,
   "metadata": {},
   "outputs": [
    {
     "data": {
      "text/plain": [
       "DecisionTreeClassifier(max_depth=3, random_state=100)"
      ]
     },
     "execution_count": 19,
     "metadata": {},
     "output_type": "execute_result"
    }
   ],
   "source": [
    "tree.fit(X_train, y_train)"
   ]
  },
  {
   "cell_type": "code",
   "execution_count": 20,
   "metadata": {},
   "outputs": [
    {
     "data": {
      "text/plain": [
       "[Text(0.5, 0.875, 'sex_male <= 0.5\\ngini = 0.473\\nsamples = 498\\nvalue = [307, 191]\\nclass = Died'),\n",
       " Text(0.25, 0.625, 'pclass <= 2.5\\ngini = 0.365\\nsamples = 175\\nvalue = [42, 133]\\nclass = survived'),\n",
       " Text(0.125, 0.375, 'fare <= 28.856\\ngini = 0.081\\nsamples = 94\\nvalue = [4, 90]\\nclass = survived'),\n",
       " Text(0.0625, 0.125, 'gini = 0.133\\nsamples = 42\\nvalue = [3, 39]\\nclass = survived'),\n",
       " Text(0.1875, 0.125, 'gini = 0.038\\nsamples = 52\\nvalue = [1, 51]\\nclass = survived'),\n",
       " Text(0.375, 0.375, 'fare <= 23.912\\ngini = 0.498\\nsamples = 81\\nvalue = [38, 43]\\nclass = survived'),\n",
       " Text(0.3125, 0.125, 'gini = 0.476\\nsamples = 69\\nvalue = [27, 42]\\nclass = survived'),\n",
       " Text(0.4375, 0.125, 'gini = 0.153\\nsamples = 12\\nvalue = [11, 1]\\nclass = Died'),\n",
       " Text(0.75, 0.625, 'fare <= 18.275\\ngini = 0.295\\nsamples = 323\\nvalue = [265, 58]\\nclass = Died'),\n",
       " Text(0.625, 0.375, 'alone <= 0.5\\ngini = 0.184\\nsamples = 205\\nvalue = [184, 21]\\nclass = Died'),\n",
       " Text(0.5625, 0.125, 'gini = 0.32\\nsamples = 20\\nvalue = [16, 4]\\nclass = Died'),\n",
       " Text(0.6875, 0.125, 'gini = 0.167\\nsamples = 185\\nvalue = [168, 17]\\nclass = Died'),\n",
       " Text(0.875, 0.375, 'fare <= 19.637\\ngini = 0.43\\nsamples = 118\\nvalue = [81, 37]\\nclass = Died'),\n",
       " Text(0.8125, 0.125, 'gini = 0.0\\nsamples = 2\\nvalue = [0, 2]\\nclass = survived'),\n",
       " Text(0.9375, 0.125, 'gini = 0.421\\nsamples = 116\\nvalue = [81, 35]\\nclass = Died')]"
      ]
     },
     "execution_count": 20,
     "metadata": {},
     "output_type": "execute_result"
    },
    {
     "data": {
      "image/png": "[encoded data removed]",
      "text/plain": [
       "<Figure size 864x504 with 1 Axes>"
      ]
     },
     "metadata": {
      "needs_background": "light"
     },
     "output_type": "display_data"
    }
   ],
   "source": [
    "plt.figure(figsize=(12, 7))\n",
    "plot_tree(tree, feature_names=X_train.columns, class_names=['Died', 'survived'])"
   ]
  },
  {
   "cell_type": "code",
   "execution_count": 21,
   "metadata": {},
   "outputs": [
    {
     "data": {
      "text/plain": [
       "array([0, 0, 0, 1, 1])"
      ]
     },
     "execution_count": 21,
     "metadata": {},
     "output_type": "execute_result"
    }
   ],
   "source": [
    "# make prediction on train obeservations\n",
    "\n",
    "y_pred = tree.predict(X_train)\n",
    "y_pred[0:5]\n"
   ]
  },
  {
   "cell_type": "code",
   "execution_count": 22,
   "metadata": {},
   "outputs": [
    {
     "name": "stdout",
     "output_type": "stream",
     "text": [
      "Accuracy of Decision Tree classifier on training set: 0.82\n"
     ]
    }
   ],
   "source": [
    "print('Accuracy of Decision Tree classifier on training set: {:.2f}'\n",
    "      .format(tree.score(X_train, y_train)))"
   ]
  },
  {
   "cell_type": "code",
   "execution_count": 23,
   "metadata": {},
   "outputs": [
    {
     "data": {
      "text/plain": [
       "array([[276,  31],\n",
       "       [ 57, 134]])"
      ]
     },
     "execution_count": 23,
     "metadata": {},
     "output_type": "execute_result"
    }
   ],
   "source": [
    "# confusion matrix\n",
    "\n",
    "confusion_matrix(y_train, y_pred)\n"
   ]
  },
  {
   "cell_type": "code",
   "execution_count": 24,
   "metadata": {},
   "outputs": [
    {
     "name": "stdout",
     "output_type": "stream",
     "text": [
      "              precision    recall  f1-score   support\n",
      "\n",
      "           0       0.83      0.90      0.86       307\n",
      "           1       0.81      0.70      0.75       191\n",
      "\n",
      "    accuracy                           0.82       498\n",
      "   macro avg       0.82      0.80      0.81       498\n",
      "weighted avg       0.82      0.82      0.82       498\n",
      "\n"
     ]
    }
   ],
   "source": [
    "y_train.value_counts()\n",
    "\n",
    "print(classification_report(y_train, y_pred))\n"
   ]
  },
  {
   "cell_type": "code",
   "execution_count": 69,
   "metadata": {},
   "outputs": [
    {
     "data": {
      "text/plain": [
       "((214, 4), (179,))"
      ]
     },
     "execution_count": 69,
     "metadata": {},
     "output_type": "execute_result"
    }
   ],
   "source": [
    "x_validate.shape, y_validate.shape"
   ]
  },
  {
   "cell_type": "code",
   "execution_count": 25,
   "metadata": {},
   "outputs": [
    {
     "name": "stdout",
     "output_type": "stream",
     "text": [
      "Accuracy of Decision Tree classifier on validate set: 0.79\n"
     ]
    }
   ],
   "source": [
    "print('Accuracy of Decision Tree classifier on validate set: {:.2f}'\n",
    "     .format(tree.score(x_validate, y_validate)))\n"
   ]
  },
  {
   "cell_type": "markdown",
   "metadata": {},
   "source": [
    "## Same tree model but with different max depth"
   ]
  },
  {
   "cell_type": "code",
   "execution_count": 26,
   "metadata": {},
   "outputs": [],
   "source": [
    "tree2 = DecisionTreeClassifier(max_depth=4, random_state=100)"
   ]
  },
  {
   "cell_type": "code",
   "execution_count": 27,
   "metadata": {},
   "outputs": [
    {
     "data": {
      "text/plain": [
       "DecisionTreeClassifier(max_depth=4, random_state=100)"
      ]
     },
     "execution_count": 27,
     "metadata": {},
     "output_type": "execute_result"
    }
   ],
   "source": [
    "tree2.fit(X_train, y_train)"
   ]
  },
  {
   "cell_type": "code",
   "execution_count": 28,
   "metadata": {},
   "outputs": [
    {
     "data": {
      "text/plain": [
       "[Text(0.5446428571428571, 0.9, 'sex_male <= 0.5\\ngini = 0.473\\nsamples = 498\\nvalue = [307, 191]\\nclass = Died'),\n",
       " Text(0.2857142857142857, 0.7, 'pclass <= 2.5\\ngini = 0.365\\nsamples = 175\\nvalue = [42, 133]\\nclass = survived'),\n",
       " Text(0.14285714285714285, 0.5, 'fare <= 28.856\\ngini = 0.081\\nsamples = 94\\nvalue = [4, 90]\\nclass = survived'),\n",
       " Text(0.07142857142857142, 0.3, 'fare <= 28.231\\ngini = 0.133\\nsamples = 42\\nvalue = [3, 39]\\nclass = survived'),\n",
       " Text(0.03571428571428571, 0.1, 'gini = 0.093\\nsamples = 41\\nvalue = [2, 39]\\nclass = survived'),\n",
       " Text(0.10714285714285714, 0.1, 'gini = 0.0\\nsamples = 1\\nvalue = [1, 0]\\nclass = Died'),\n",
       " Text(0.21428571428571427, 0.3, 'fare <= 149.035\\ngini = 0.038\\nsamples = 52\\nvalue = [1, 51]\\nclass = survived'),\n",
       " Text(0.17857142857142858, 0.1, 'gini = 0.0\\nsamples = 41\\nvalue = [0, 41]\\nclass = survived'),\n",
       " Text(0.25, 0.1, 'gini = 0.165\\nsamples = 11\\nvalue = [1, 10]\\nclass = survived'),\n",
       " Text(0.42857142857142855, 0.5, 'fare <= 23.912\\ngini = 0.498\\nsamples = 81\\nvalue = [38, 43]\\nclass = survived'),\n",
       " Text(0.35714285714285715, 0.3, 'fare <= 7.888\\ngini = 0.476\\nsamples = 69\\nvalue = [27, 42]\\nclass = survived'),\n",
       " Text(0.32142857142857145, 0.1, 'gini = 0.384\\nsamples = 27\\nvalue = [7, 20]\\nclass = survived'),\n",
       " Text(0.39285714285714285, 0.1, 'gini = 0.499\\nsamples = 42\\nvalue = [20, 22]\\nclass = survived'),\n",
       " Text(0.5, 0.3, 'fare <= 32.881\\ngini = 0.153\\nsamples = 12\\nvalue = [11, 1]\\nclass = Died'),\n",
       " Text(0.4642857142857143, 0.1, 'gini = 0.278\\nsamples = 6\\nvalue = [5, 1]\\nclass = Died'),\n",
       " Text(0.5357142857142857, 0.1, 'gini = 0.0\\nsamples = 6\\nvalue = [6, 0]\\nclass = Died'),\n",
       " Text(0.8035714285714286, 0.7, 'fare <= 18.275\\ngini = 0.295\\nsamples = 323\\nvalue = [265, 58]\\nclass = Died'),\n",
       " Text(0.7142857142857143, 0.5, 'alone <= 0.5\\ngini = 0.184\\nsamples = 205\\nvalue = [184, 21]\\nclass = Died'),\n",
       " Text(0.6428571428571429, 0.3, 'fare <= 8.59\\ngini = 0.32\\nsamples = 20\\nvalue = [16, 4]\\nclass = Died'),\n",
       " Text(0.6071428571428571, 0.1, 'gini = 0.469\\nsamples = 8\\nvalue = [5, 3]\\nclass = Died'),\n",
       " Text(0.6785714285714286, 0.1, 'gini = 0.153\\nsamples = 12\\nvalue = [11, 1]\\nclass = Died'),\n",
       " Text(0.7857142857142857, 0.3, 'fare <= 8.081\\ngini = 0.167\\nsamples = 185\\nvalue = [168, 17]\\nclass = Died'),\n",
       " Text(0.75, 0.1, 'gini = 0.134\\nsamples = 125\\nvalue = [116, 9]\\nclass = Died'),\n",
       " Text(0.8214285714285714, 0.1, 'gini = 0.231\\nsamples = 60\\nvalue = [52, 8]\\nclass = Died'),\n",
       " Text(0.8928571428571429, 0.5, 'fare <= 19.637\\ngini = 0.43\\nsamples = 118\\nvalue = [81, 37]\\nclass = Died'),\n",
       " Text(0.8571428571428571, 0.3, 'gini = 0.0\\nsamples = 2\\nvalue = [0, 2]\\nclass = survived'),\n",
       " Text(0.9285714285714286, 0.3, 'pclass <= 1.5\\ngini = 0.421\\nsamples = 116\\nvalue = [81, 35]\\nclass = Died'),\n",
       " Text(0.8928571428571429, 0.1, 'gini = 0.468\\nsamples = 67\\nvalue = [42, 25]\\nclass = Died'),\n",
       " Text(0.9642857142857143, 0.1, 'gini = 0.325\\nsamples = 49\\nvalue = [39, 10]\\nclass = Died')]"
      ]
     },
     "execution_count": 28,
     "metadata": {},
     "output_type": "execute_result"
    },
    {
     "data": {
      "image/png": "[encoded data removed]",
      "text/plain": [
       "<Figure size 864x504 with 1 Axes>"
      ]
     },
     "metadata": {
      "needs_background": "light"
     },
     "output_type": "display_data"
    }
   ],
   "source": [
    "plt.figure(figsize=(12, 7))\n",
    "plot_tree(tree2, feature_names=X_train.columns, class_names=['Died', 'survived'])"
   ]
  },
  {
   "cell_type": "code",
   "execution_count": 29,
   "metadata": {},
   "outputs": [
    {
     "data": {
      "text/plain": [
       "array([0, 0, 0, 1, 1])"
      ]
     },
     "execution_count": 29,
     "metadata": {},
     "output_type": "execute_result"
    }
   ],
   "source": [
    "# make prediction on train obeservations\n",
    "\n",
    "y_pred2 = tree2.predict(X_train)\n",
    "y_pred2[0:5]"
   ]
  },
  {
   "cell_type": "code",
   "execution_count": 30,
   "metadata": {},
   "outputs": [
    {
     "name": "stdout",
     "output_type": "stream",
     "text": [
      "Accuracy of Decision Tree classifier on training set: 0.83\n"
     ]
    }
   ],
   "source": [
    "print('Accuracy of Decision Tree classifier on training set: {:.2f}'\n",
    "      .format(tree2.score(X_train, y_train)))"
   ]
  },
  {
   "cell_type": "code",
   "execution_count": 31,
   "metadata": {},
   "outputs": [
    {
     "data": {
      "text/plain": [
       "array([[277,  30],\n",
       "       [ 57, 134]])"
      ]
     },
     "execution_count": 31,
     "metadata": {},
     "output_type": "execute_result"
    }
   ],
   "source": [
    "# confusion matrix\n",
    "\n",
    "confusion_matrix(y_train, y_pred2)"
   ]
  },
  {
   "cell_type": "code",
   "execution_count": 32,
   "metadata": {},
   "outputs": [
    {
     "name": "stdout",
     "output_type": "stream",
     "text": [
      "              precision    recall  f1-score   support\n",
      "\n",
      "           0       0.83      0.90      0.86       307\n",
      "           1       0.82      0.70      0.75       191\n",
      "\n",
      "    accuracy                           0.83       498\n",
      "   macro avg       0.82      0.80      0.81       498\n",
      "weighted avg       0.82      0.83      0.82       498\n",
      "\n"
     ]
    }
   ],
   "source": [
    "print(classification_report(y_train, y_pred2))"
   ]
  },
  {
   "cell_type": "code",
   "execution_count": 33,
   "metadata": {},
   "outputs": [
    {
     "name": "stdout",
     "output_type": "stream",
     "text": [
      "Accuracy of Decision Tree classifier on validate set: 0.79\n"
     ]
    }
   ],
   "source": [
    "print('Accuracy of Decision Tree classifier on validate set: {:.2f}'\n",
    "     .format(tree2.score(x_validate, y_validate)))"
   ]
  },
  {
   "cell_type": "markdown",
   "metadata": {},
   "source": [
    "### Last tree model but with a shallower depth than the first"
   ]
  },
  {
   "cell_type": "code",
   "execution_count": 35,
   "metadata": {},
   "outputs": [],
   "source": [
    "tree3 = DecisionTreeClassifier(max_depth=2, random_state=100)"
   ]
  },
  {
   "cell_type": "code",
   "execution_count": 36,
   "metadata": {},
   "outputs": [
    {
     "data": {
      "text/plain": [
       "DecisionTreeClassifier(max_depth=2, random_state=100)"
      ]
     },
     "execution_count": 36,
     "metadata": {},
     "output_type": "execute_result"
    }
   ],
   "source": [
    "tree3.fit(X_train, y_train)"
   ]
  },
  {
   "cell_type": "code",
   "execution_count": 37,
   "metadata": {},
   "outputs": [
    {
     "data": {
      "text/plain": [
       "[Text(0.5, 0.8333333333333334, 'sex_male <= 0.5\\ngini = 0.473\\nsamples = 498\\nvalue = [307, 191]\\nclass = died'),\n",
       " Text(0.25, 0.5, 'pclass <= 2.5\\ngini = 0.365\\nsamples = 175\\nvalue = [42, 133]\\nclass = survived'),\n",
       " Text(0.125, 0.16666666666666666, 'gini = 0.081\\nsamples = 94\\nvalue = [4, 90]\\nclass = survived'),\n",
       " Text(0.375, 0.16666666666666666, 'gini = 0.498\\nsamples = 81\\nvalue = [38, 43]\\nclass = survived'),\n",
       " Text(0.75, 0.5, 'fare <= 18.275\\ngini = 0.295\\nsamples = 323\\nvalue = [265, 58]\\nclass = died'),\n",
       " Text(0.625, 0.16666666666666666, 'gini = 0.184\\nsamples = 205\\nvalue = [184, 21]\\nclass = died'),\n",
       " Text(0.875, 0.16666666666666666, 'gini = 0.43\\nsamples = 118\\nvalue = [81, 37]\\nclass = died')]"
      ]
     },
     "execution_count": 37,
     "metadata": {},
     "output_type": "execute_result"
    },
    {
     "data": {
      "image/png": "[encoded data removed]",
      "text/plain": [
       "<Figure size 864x504 with 1 Axes>"
      ]
     },
     "metadata": {
      "needs_background": "light"
     },
     "output_type": "display_data"
    }
   ],
   "source": [
    "plt.figure(figsize=(12, 7))\n",
    "plot_tree(tree3, feature_names=X_train.columns, class_names=['died', 'survived'])"
   ]
  },
  {
   "cell_type": "code",
   "execution_count": 38,
   "metadata": {},
   "outputs": [
    {
     "data": {
      "text/plain": [
       "array([0, 0, 0, 1, 1])"
      ]
     },
     "execution_count": 38,
     "metadata": {},
     "output_type": "execute_result"
    }
   ],
   "source": [
    "y_pred3 = tree3.predict(X_train)\n",
    "y_pred3[0:5]"
   ]
  },
  {
   "cell_type": "code",
   "execution_count": 39,
   "metadata": {},
   "outputs": [
    {
     "name": "stdout",
     "output_type": "stream",
     "text": [
      "Accuracy of Decision Tree classifier on training set: 0.80\n"
     ]
    }
   ],
   "source": [
    "print('Accuracy of Decision Tree classifier on training set: {:.2f}'\n",
    "      .format(tree3.score(X_train, y_train)))"
   ]
  },
  {
   "cell_type": "code",
   "execution_count": 40,
   "metadata": {},
   "outputs": [
    {
     "data": {
      "text/plain": [
       "array([[265,  42],\n",
       "       [ 58, 133]])"
      ]
     },
     "execution_count": 40,
     "metadata": {},
     "output_type": "execute_result"
    }
   ],
   "source": [
    "# confusion matrix\n",
    "\n",
    "confusion_matrix(y_train, y_pred3)"
   ]
  },
  {
   "cell_type": "code",
   "execution_count": 41,
   "metadata": {},
   "outputs": [
    {
     "name": "stdout",
     "output_type": "stream",
     "text": [
      "              precision    recall  f1-score   support\n",
      "\n",
      "           0       0.82      0.86      0.84       307\n",
      "           1       0.76      0.70      0.73       191\n",
      "\n",
      "    accuracy                           0.80       498\n",
      "   macro avg       0.79      0.78      0.78       498\n",
      "weighted avg       0.80      0.80      0.80       498\n",
      "\n"
     ]
    }
   ],
   "source": [
    "print(classification_report(y_train, y_pred3\n",
    "))"
   ]
  },
  {
   "cell_type": "code",
   "execution_count": 44,
   "metadata": {},
   "outputs": [
    {
     "name": "stdout",
     "output_type": "stream",
     "text": [
      "Accuracy of Decision Tree 1 classifier on validate set: 0.79\n",
      "Accuracy of Decision Tree 2 classifier on validate set: 0.79\n",
      "Accuracy of Decision Tree 3 classifier on validate set: 0.76\n"
     ]
    }
   ],
   "source": [
    "print('Accuracy of Decision Tree 1 classifier on validate set: {:.2f}'\n",
    "     .format(tree.score(x_validate, y_validate)))\n",
    "\n",
    "print('Accuracy of Decision Tree 2 classifier on validate set: {:.2f}'\n",
    "     .format(tree2.score(x_validate, y_validate)))\n",
    "\n",
    "print('Accuracy of Decision Tree 3 classifier on validate set: {:.2f}'\n",
    "     .format(tree3.score(x_validate, y_validate)))"
   ]
  },
  {
   "cell_type": "markdown",
   "metadata": {},
   "source": [
    "Tree 1 done the best with validate even though it has the same accuracy. It is the best because it uses a smaller tree compared to tree 2. Tree 2 was the best for the training data"
   ]
  },
  {
   "cell_type": "markdown",
   "metadata": {},
   "source": [
    "### Telco Model"
   ]
  },
  {
   "cell_type": "code",
   "execution_count": 95,
   "metadata": {},
   "outputs": [
    {
     "data": {
      "text/plain": [
       "Index(['Unnamed: 0', 'internet_service_type_id', 'payment_type_id',\n",
       "       'contract_type_id', 'customer_id', 'gender', 'senior_citizen',\n",
       "       'partner', 'dependents', 'tenure', 'phone_service', 'multiple_lines',\n",
       "       'online_security', 'online_backup', 'device_protection', 'tech_support',\n",
       "       'streaming_tv', 'streaming_movies', 'paperless_billing',\n",
       "       'monthly_charges', 'total_charges', 'churn', 'contract_type',\n",
       "       'payment_type', 'internet_service_type'],\n",
       "      dtype='object')"
      ]
     },
     "execution_count": 95,
     "metadata": {},
     "output_type": "execute_result"
    }
   ],
   "source": [
    "telco_df = acquire.get_telco_data()\n",
    "\n",
    "telco_df.columns"
   ]
  },
  {
   "cell_type": "code",
   "execution_count": 48,
   "metadata": {},
   "outputs": [],
   "source": [
    "telco_train, telco_validate, telco_test = telco_prep.prep_telco_data(telco_df)"
   ]
  },
  {
   "cell_type": "code",
   "execution_count": 49,
   "metadata": {},
   "outputs": [
    {
     "name": "stdout",
     "output_type": "stream",
     "text": [
      "train -> (4500, 47)\n",
      "validate -> (1125, 47)\n",
      "test -> (1407, 47)\n"
     ]
    }
   ],
   "source": [
    "print(f'train -> {telco_train.shape}')\n",
    "print(f'validate -> {telco_validate.shape}')\n",
    "print(f'test -> {telco_test.shape}')"
   ]
  },
  {
   "cell_type": "code",
   "execution_count": 97,
   "metadata": {},
   "outputs": [
    {
     "data": {
      "text/plain": [
       "Index(['gender', 'senior_citizen', 'partner', 'dependents', 'tenure',\n",
       "       'phone_service', 'multiple_lines', 'online_security', 'online_backup',\n",
       "       'device_protection', 'tech_support', 'streaming_tv', 'streaming_movies',\n",
       "       'paperless_billing', 'monthly_charges', 'total_charges', 'churn',\n",
       "       'contract_type', 'payment_type', 'internet_service_type',\n",
       "       'gender_encoded', 'partner_encoded', 'dependents_encoded',\n",
       "       'phone_service_encoded', 'paperless_billing_encoded', 'churn_encoded',\n",
       "       'multiple_lines_No phone service', 'multiple_lines_Yes',\n",
       "       'online_security_No internet service', 'online_security_Yes',\n",
       "       'online_backup_No internet service', 'online_backup_Yes',\n",
       "       'device_protection_No internet service', 'device_protection_Yes',\n",
       "       'tech_support_No internet service', 'tech_support_Yes',\n",
       "       'streaming_tv_No internet service', 'streaming_tv_Yes',\n",
       "       'streaming_movies_No internet service', 'streaming_movies_Yes',\n",
       "       'contract_type_One year', 'contract_type_Two year',\n",
       "       'internet_service_type_Fiber optic', 'internet_service_type_None',\n",
       "       'payment_type_Credit card (automatic)', 'payment_type_Electronic check',\n",
       "       'payment_type_Mailed check'],\n",
       "      dtype='object')"
      ]
     },
     "execution_count": 97,
     "metadata": {},
     "output_type": "execute_result"
    }
   ],
   "source": [
    "telco_train.columns"
   ]
  },
  {
   "cell_type": "markdown",
   "metadata": {},
   "source": [
    "# Finding Baseline predicition"
   ]
  },
  {
   "cell_type": "code",
   "execution_count": 52,
   "metadata": {},
   "outputs": [
    {
     "data": {
      "text/plain": [
       "(No     3304\n",
       " Yes    1196\n",
       " Name: churn, dtype: int64,\n",
       " (4500, 47))"
      ]
     },
     "execution_count": 52,
     "metadata": {},
     "output_type": "execute_result"
    }
   ],
   "source": [
    "telco_train['churn'].value_counts(), telco_train.shape"
   ]
  },
  {
   "cell_type": "code",
   "execution_count": 53,
   "metadata": {},
   "outputs": [
    {
     "data": {
      "text/plain": [
       "0.7342222222222222"
      ]
     },
     "execution_count": 53,
     "metadata": {},
     "output_type": "execute_result"
    }
   ],
   "source": [
    "telco_baseline = 3304 / 4500\n",
    "\n",
    "telco_baseline\n",
    "\n",
    "# our baseline prediction is 73.42%"
   ]
  },
  {
   "cell_type": "code",
   "execution_count": 98,
   "metadata": {},
   "outputs": [],
   "source": [
    "x_vars = ['tenure','internet_service_type_Fiber optic','payment_type_Credit card (automatic)','payment_type_Electronic check','payment_type_Mailed check']\n",
    "y_vars = 'churn'\n",
    "\n",
    "x_train, y_train = telco_train[x_vars], telco_train[y_vars]\n",
    "x_validate, y_validate = telco_validate[x_vars], telco_validate[y_vars]\n",
    "x_test, y_test = telco_test[x_vars], telco_test[y_vars]"
   ]
  },
  {
   "cell_type": "code",
   "execution_count": 99,
   "metadata": {},
   "outputs": [],
   "source": [
    "telco_tree = DecisionTreeClassifier(max_depth=3, random_state=100)"
   ]
  },
  {
   "cell_type": "code",
   "execution_count": 100,
   "metadata": {},
   "outputs": [
    {
     "data": {
      "text/plain": [
       "DecisionTreeClassifier(max_depth=3, random_state=100)"
      ]
     },
     "execution_count": 100,
     "metadata": {},
     "output_type": "execute_result"
    }
   ],
   "source": [
    "telco_tree.fit(x_train, y_train)"
   ]
  },
  {
   "cell_type": "code",
   "execution_count": 101,
   "metadata": {},
   "outputs": [
    {
     "data": {
      "text/plain": [
       "[Text(0.5, 0.875, 'tenure <= 17.5\\ngini = 0.39\\nsamples = 4500\\nvalue = [3304, 1196]\\nclass = Churn'),\n",
       " Text(0.25, 0.625, 'internet_service_type_Fiber optic <= 0.5\\ngini = 0.496\\nsamples = 1683\\nvalue = [917, 766]\\nclass = Churn'),\n",
       " Text(0.125, 0.375, 'tenure <= 3.5\\ngini = 0.409\\nsamples = 976\\nvalue = [696, 280]\\nclass = Churn'),\n",
       " Text(0.0625, 0.125, 'gini = 0.492\\nsamples = 409\\nvalue = [231, 178]\\nclass = Churn'),\n",
       " Text(0.1875, 0.125, 'gini = 0.295\\nsamples = 567\\nvalue = [465, 102]\\nclass = Churn'),\n",
       " Text(0.375, 0.375, 'tenure <= 1.5\\ngini = 0.43\\nsamples = 707\\nvalue = [221, 486]\\nclass = No Churn'),\n",
       " Text(0.3125, 0.125, 'gini = 0.245\\nsamples = 154\\nvalue = [22, 132]\\nclass = No Churn'),\n",
       " Text(0.4375, 0.125, 'gini = 0.461\\nsamples = 553\\nvalue = [199, 354]\\nclass = No Churn'),\n",
       " Text(0.75, 0.625, 'internet_service_type_Fiber optic <= 0.5\\ngini = 0.259\\nsamples = 2817\\nvalue = [2387, 430]\\nclass = Churn'),\n",
       " Text(0.625, 0.375, 'tenure <= 57.5\\ngini = 0.097\\nsamples = 1552\\nvalue = [1473, 79]\\nclass = Churn'),\n",
       " Text(0.5625, 0.125, 'gini = 0.129\\nsamples = 985\\nvalue = [917, 68]\\nclass = Churn'),\n",
       " Text(0.6875, 0.125, 'gini = 0.038\\nsamples = 567\\nvalue = [556, 11]\\nclass = Churn'),\n",
       " Text(0.875, 0.375, 'tenure <= 54.5\\ngini = 0.401\\nsamples = 1265\\nvalue = [914, 351]\\nclass = Churn'),\n",
       " Text(0.8125, 0.125, 'gini = 0.469\\nsamples = 736\\nvalue = [459, 277]\\nclass = Churn'),\n",
       " Text(0.9375, 0.125, 'gini = 0.241\\nsamples = 529\\nvalue = [455, 74]\\nclass = Churn')]"
      ]
     },
     "execution_count": 101,
     "metadata": {},
     "output_type": "execute_result"
    },
    {
     "data": {
      "image/png": "[encoded data removed]",
      "text/plain": [
       "<Figure size 864x504 with 1 Axes>"
      ]
     },
     "metadata": {
      "needs_background": "light"
     },
     "output_type": "display_data"
    }
   ],
   "source": [
    "plt.figure(figsize=(12, 7))\n",
    "plot_tree(telco_tree, feature_names=x_train.columns, class_names=['Churn', 'No Churn'])"
   ]
  },
  {
   "cell_type": "code",
   "execution_count": 102,
   "metadata": {},
   "outputs": [
    {
     "name": "stdout",
     "output_type": "stream",
     "text": [
      "Accuracy of Decision Tree classifier on training set: 0.79\n"
     ]
    }
   ],
   "source": [
    "print('Accuracy of Decision Tree classifier on training set: {:.2f}'\n",
    "      .format(telco_tree.score(x_train, y_train)))"
   ]
  },
  {
   "cell_type": "markdown",
   "metadata": {},
   "source": [
    "We see a slightly better accuracy compared to the baseline"
   ]
  },
  {
   "cell_type": "code",
   "execution_count": 103,
   "metadata": {},
   "outputs": [
    {
     "data": {
      "text/plain": [
       "array(['No', 'No', 'No', 'No', 'No'], dtype=object)"
      ]
     },
     "execution_count": 103,
     "metadata": {},
     "output_type": "execute_result"
    }
   ],
   "source": [
    "y_pred = telco_tree.predict(x_train)\n",
    "y_pred[0:5]"
   ]
  },
  {
   "cell_type": "code",
   "execution_count": 104,
   "metadata": {},
   "outputs": [
    {
     "data": {
      "text/plain": [
       "array([[3083,  221],\n",
       "       [ 710,  486]])"
      ]
     },
     "execution_count": 104,
     "metadata": {},
     "output_type": "execute_result"
    }
   ],
   "source": [
    "confusion_matrix(y_train, y_pred)"
   ]
  },
  {
   "cell_type": "code",
   "execution_count": 105,
   "metadata": {},
   "outputs": [
    {
     "name": "stdout",
     "output_type": "stream",
     "text": [
      "              precision    recall  f1-score   support\n",
      "\n",
      "          No       0.81      0.93      0.87      3304\n",
      "         Yes       0.69      0.41      0.51      1196\n",
      "\n",
      "    accuracy                           0.79      4500\n",
      "   macro avg       0.75      0.67      0.69      4500\n",
      "weighted avg       0.78      0.79      0.77      4500\n",
      "\n"
     ]
    }
   ],
   "source": [
    "print(classification_report(y_train, y_pred))"
   ]
  },
  {
   "cell_type": "markdown",
   "metadata": {},
   "source": [
    "# trying tree with more depth"
   ]
  },
  {
   "cell_type": "code",
   "execution_count": 106,
   "metadata": {},
   "outputs": [],
   "source": [
    "telco_tree2 = DecisionTreeClassifier(max_depth=2, random_state=100)"
   ]
  },
  {
   "cell_type": "code",
   "execution_count": 107,
   "metadata": {},
   "outputs": [
    {
     "data": {
      "text/plain": [
       "DecisionTreeClassifier(max_depth=2, random_state=100)"
      ]
     },
     "execution_count": 107,
     "metadata": {},
     "output_type": "execute_result"
    }
   ],
   "source": [
    "telco_tree2.fit(x_train, y_train)"
   ]
  },
  {
   "cell_type": "code",
   "execution_count": 108,
   "metadata": {},
   "outputs": [
    {
     "data": {
      "text/plain": [
       "[Text(0.5, 0.8333333333333334, 'tenure <= 17.5\\ngini = 0.39\\nsamples = 4500\\nvalue = [3304, 1196]\\nclass = Churn'),\n",
       " Text(0.25, 0.5, 'internet_service_type_Fiber optic <= 0.5\\ngini = 0.496\\nsamples = 1683\\nvalue = [917, 766]\\nclass = Churn'),\n",
       " Text(0.125, 0.16666666666666666, 'gini = 0.409\\nsamples = 976\\nvalue = [696, 280]\\nclass = Churn'),\n",
       " Text(0.375, 0.16666666666666666, 'gini = 0.43\\nsamples = 707\\nvalue = [221, 486]\\nclass = No Churn'),\n",
       " Text(0.75, 0.5, 'internet_service_type_Fiber optic <= 0.5\\ngini = 0.259\\nsamples = 2817\\nvalue = [2387, 430]\\nclass = Churn'),\n",
       " Text(0.625, 0.16666666666666666, 'gini = 0.097\\nsamples = 1552\\nvalue = [1473, 79]\\nclass = Churn'),\n",
       " Text(0.875, 0.16666666666666666, 'gini = 0.401\\nsamples = 1265\\nvalue = [914, 351]\\nclass = Churn')]"
      ]
     },
     "execution_count": 108,
     "metadata": {},
     "output_type": "execute_result"
    },
    {
     "data": {
      "image/png": "[encoded data removed]",
      "text/plain": [
       "<Figure size 864x504 with 1 Axes>"
      ]
     },
     "metadata": {
      "needs_background": "light"
     },
     "output_type": "display_data"
    }
   ],
   "source": [
    "plt.figure(figsize=(12, 7))\n",
    "plot_tree(telco_tree2, feature_names=x_train.columns, class_names=['Churn', 'No Churn'])"
   ]
  },
  {
   "cell_type": "code",
   "execution_count": 109,
   "metadata": {},
   "outputs": [
    {
     "name": "stdout",
     "output_type": "stream",
     "text": [
      "Accuracy of Decision Tree classifier on training set: 0.79\n"
     ]
    }
   ],
   "source": [
    "print('Accuracy of Decision Tree classifier on training set: {:.2f}'\n",
    "      .format(telco_tree2.score(x_train, y_train)))"
   ]
  },
  {
   "cell_type": "code",
   "execution_count": 110,
   "metadata": {},
   "outputs": [
    {
     "data": {
      "text/plain": [
       "array(['No', 'No', 'No', 'No', 'No'], dtype=object)"
      ]
     },
     "execution_count": 110,
     "metadata": {},
     "output_type": "execute_result"
    }
   ],
   "source": [
    "y_pred2 = telco_tree2.predict(x_train)\n",
    "y_pred[0:5]"
   ]
  },
  {
   "cell_type": "code",
   "execution_count": 111,
   "metadata": {},
   "outputs": [
    {
     "data": {
      "text/plain": [
       "array([[3083,  221],\n",
       "       [ 710,  486]])"
      ]
     },
     "execution_count": 111,
     "metadata": {},
     "output_type": "execute_result"
    }
   ],
   "source": [
    "confusion_matrix(y_train, y_pred2)"
   ]
  },
  {
   "cell_type": "code",
   "execution_count": 112,
   "metadata": {},
   "outputs": [
    {
     "name": "stdout",
     "output_type": "stream",
     "text": [
      "              precision    recall  f1-score   support\n",
      "\n",
      "          No       0.81      0.93      0.87      3304\n",
      "         Yes       0.69      0.41      0.51      1196\n",
      "\n",
      "    accuracy                           0.79      4500\n",
      "   macro avg       0.75      0.67      0.69      4500\n",
      "weighted avg       0.78      0.79      0.77      4500\n",
      "\n"
     ]
    }
   ],
   "source": [
    "print(classification_report(y_train, y_pred2))"
   ]
  },
  {
   "cell_type": "markdown",
   "metadata": {},
   "source": [
    "# One more tree with more depth"
   ]
  },
  {
   "cell_type": "code",
   "execution_count": 113,
   "metadata": {},
   "outputs": [],
   "source": [
    "telco_tree3 = DecisionTreeClassifier(max_depth=5, random_state=100)"
   ]
  },
  {
   "cell_type": "code",
   "execution_count": 114,
   "metadata": {},
   "outputs": [
    {
     "data": {
      "text/plain": [
       "DecisionTreeClassifier(max_depth=5, random_state=100)"
      ]
     },
     "execution_count": 114,
     "metadata": {},
     "output_type": "execute_result"
    }
   ],
   "source": [
    "telco_tree3.fit(x_train, y_train)"
   ]
  },
  {
   "cell_type": "code",
   "execution_count": 115,
   "metadata": {},
   "outputs": [
    {
     "data": {
      "text/plain": [
       "[Text(0.4895833333333333, 0.9166666666666666, 'tenure <= 17.5\\ngini = 0.39\\nsamples = 4500\\nvalue = [3304, 1196]\\nclass = Churn'),\n",
       " Text(0.24583333333333332, 0.75, 'internet_service_type_Fiber optic <= 0.5\\ngini = 0.496\\nsamples = 1683\\nvalue = [917, 766]\\nclass = Churn'),\n",
       " Text(0.13333333333333333, 0.5833333333333334, 'tenure <= 3.5\\ngini = 0.409\\nsamples = 976\\nvalue = [696, 280]\\nclass = Churn'),\n",
       " Text(0.06666666666666667, 0.4166666666666667, 'payment_type_Electronic check <= 0.5\\ngini = 0.492\\nsamples = 409\\nvalue = [231, 178]\\nclass = Churn'),\n",
       " Text(0.03333333333333333, 0.25, 'tenure <= 1.5\\ngini = 0.467\\nsamples = 283\\nvalue = [178, 105]\\nclass = Churn'),\n",
       " Text(0.016666666666666666, 0.08333333333333333, 'gini = 0.489\\nsamples = 176\\nvalue = [101, 75]\\nclass = Churn'),\n",
       " Text(0.05, 0.08333333333333333, 'gini = 0.404\\nsamples = 107\\nvalue = [77, 30]\\nclass = Churn'),\n",
       " Text(0.1, 0.25, 'tenure <= 1.5\\ngini = 0.487\\nsamples = 126\\nvalue = [53, 73]\\nclass = No Churn'),\n",
       " Text(0.08333333333333333, 0.08333333333333333, 'gini = 0.495\\nsamples = 78\\nvalue = [35, 43]\\nclass = No Churn'),\n",
       " Text(0.11666666666666667, 0.08333333333333333, 'gini = 0.469\\nsamples = 48\\nvalue = [18, 30]\\nclass = No Churn'),\n",
       " Text(0.2, 0.4166666666666667, 'payment_type_Mailed check <= 0.5\\ngini = 0.295\\nsamples = 567\\nvalue = [465, 102]\\nclass = Churn'),\n",
       " Text(0.16666666666666666, 0.25, 'tenure <= 6.5\\ngini = 0.357\\nsamples = 310\\nvalue = [238, 72]\\nclass = Churn'),\n",
       " Text(0.15, 0.08333333333333333, 'gini = 0.454\\nsamples = 86\\nvalue = [56, 30]\\nclass = Churn'),\n",
       " Text(0.18333333333333332, 0.08333333333333333, 'gini = 0.305\\nsamples = 224\\nvalue = [182, 42]\\nclass = Churn'),\n",
       " Text(0.23333333333333334, 0.25, 'tenure <= 5.5\\ngini = 0.206\\nsamples = 257\\nvalue = [227, 30]\\nclass = Churn'),\n",
       " Text(0.21666666666666667, 0.08333333333333333, 'gini = 0.341\\nsamples = 55\\nvalue = [43, 12]\\nclass = Churn'),\n",
       " Text(0.25, 0.08333333333333333, 'gini = 0.162\\nsamples = 202\\nvalue = [184, 18]\\nclass = Churn'),\n",
       " Text(0.35833333333333334, 0.5833333333333334, 'tenure <= 1.5\\ngini = 0.43\\nsamples = 707\\nvalue = [221, 486]\\nclass = No Churn'),\n",
       " Text(0.31666666666666665, 0.4166666666666667, 'payment_type_Mailed check <= 0.5\\ngini = 0.245\\nsamples = 154\\nvalue = [22, 132]\\nclass = No Churn'),\n",
       " Text(0.3, 0.25, 'payment_type_Credit card (automatic) <= 0.5\\ngini = 0.232\\nsamples = 127\\nvalue = [17, 110]\\nclass = No Churn'),\n",
       " Text(0.2833333333333333, 0.08333333333333333, 'gini = 0.228\\nsamples = 122\\nvalue = [16, 106]\\nclass = No Churn'),\n",
       " Text(0.31666666666666665, 0.08333333333333333, 'gini = 0.32\\nsamples = 5\\nvalue = [1, 4]\\nclass = No Churn'),\n",
       " Text(0.3333333333333333, 0.25, 'gini = 0.302\\nsamples = 27\\nvalue = [5, 22]\\nclass = No Churn'),\n",
       " Text(0.4, 0.4166666666666667, 'tenure <= 15.5\\ngini = 0.461\\nsamples = 553\\nvalue = [199, 354]\\nclass = No Churn'),\n",
       " Text(0.36666666666666664, 0.25, 'payment_type_Mailed check <= 0.5\\ngini = 0.453\\nsamples = 504\\nvalue = [175, 329]\\nclass = No Churn'),\n",
       " Text(0.35, 0.08333333333333333, 'gini = 0.447\\nsamples = 445\\nvalue = [150, 295]\\nclass = No Churn'),\n",
       " Text(0.38333333333333336, 0.08333333333333333, 'gini = 0.488\\nsamples = 59\\nvalue = [25, 34]\\nclass = No Churn'),\n",
       " Text(0.43333333333333335, 0.25, 'payment_type_Mailed check <= 0.5\\ngini = 0.5\\nsamples = 49\\nvalue = [24, 25]\\nclass = No Churn'),\n",
       " Text(0.4166666666666667, 0.08333333333333333, 'gini = 0.499\\nsamples = 48\\nvalue = [23, 25]\\nclass = No Churn'),\n",
       " Text(0.45, 0.08333333333333333, 'gini = 0.0\\nsamples = 1\\nvalue = [1, 0]\\nclass = Churn'),\n",
       " Text(0.7333333333333333, 0.75, 'internet_service_type_Fiber optic <= 0.5\\ngini = 0.259\\nsamples = 2817\\nvalue = [2387, 430]\\nclass = Churn'),\n",
       " Text(0.6, 0.5833333333333334, 'tenure <= 57.5\\ngini = 0.097\\nsamples = 1552\\nvalue = [1473, 79]\\nclass = Churn'),\n",
       " Text(0.5333333333333333, 0.4166666666666667, 'payment_type_Mailed check <= 0.5\\ngini = 0.129\\nsamples = 985\\nvalue = [917, 68]\\nclass = Churn'),\n",
       " Text(0.5, 0.25, 'tenure <= 18.5\\ngini = 0.157\\nsamples = 688\\nvalue = [629, 59]\\nclass = Churn'),\n",
       " Text(0.48333333333333334, 0.08333333333333333, 'gini = 0.332\\nsamples = 19\\nvalue = [15, 4]\\nclass = Churn'),\n",
       " Text(0.5166666666666667, 0.08333333333333333, 'gini = 0.151\\nsamples = 669\\nvalue = [614, 55]\\nclass = Churn'),\n",
       " Text(0.5666666666666667, 0.25, 'tenure <= 30.5\\ngini = 0.059\\nsamples = 297\\nvalue = [288, 9]\\nclass = Churn'),\n",
       " Text(0.55, 0.08333333333333333, 'gini = 0.029\\nsamples = 134\\nvalue = [132, 2]\\nclass = Churn'),\n",
       " Text(0.5833333333333334, 0.08333333333333333, 'gini = 0.082\\nsamples = 163\\nvalue = [156, 7]\\nclass = Churn'),\n",
       " Text(0.6666666666666666, 0.4166666666666667, 'payment_type_Electronic check <= 0.5\\ngini = 0.038\\nsamples = 567\\nvalue = [556, 11]\\nclass = Churn'),\n",
       " Text(0.6333333333333333, 0.25, 'tenure <= 66.5\\ngini = 0.031\\nsamples = 513\\nvalue = [505, 8]\\nclass = Churn'),\n",
       " Text(0.6166666666666667, 0.08333333333333333, 'gini = 0.061\\nsamples = 191\\nvalue = [185, 6]\\nclass = Churn'),\n",
       " Text(0.65, 0.08333333333333333, 'gini = 0.012\\nsamples = 322\\nvalue = [320, 2]\\nclass = Churn'),\n",
       " Text(0.7, 0.25, 'tenure <= 66.5\\ngini = 0.105\\nsamples = 54\\nvalue = [51, 3]\\nclass = Churn'),\n",
       " Text(0.6833333333333333, 0.08333333333333333, 'gini = 0.0\\nsamples = 26\\nvalue = [26, 0]\\nclass = Churn'),\n",
       " Text(0.7166666666666667, 0.08333333333333333, 'gini = 0.191\\nsamples = 28\\nvalue = [25, 3]\\nclass = Churn'),\n",
       " Text(0.8666666666666667, 0.5833333333333334, 'tenure <= 54.5\\ngini = 0.401\\nsamples = 1265\\nvalue = [914, 351]\\nclass = Churn'),\n",
       " Text(0.8, 0.4166666666666667, 'payment_type_Electronic check <= 0.5\\ngini = 0.469\\nsamples = 736\\nvalue = [459, 277]\\nclass = Churn'),\n",
       " Text(0.7666666666666667, 0.25, 'tenure <= 50.5\\ngini = 0.419\\nsamples = 382\\nvalue = [268, 114]\\nclass = Churn'),\n",
       " Text(0.75, 0.08333333333333333, 'gini = 0.428\\nsamples = 332\\nvalue = [229, 103]\\nclass = Churn'),\n",
       " Text(0.7833333333333333, 0.08333333333333333, 'gini = 0.343\\nsamples = 50\\nvalue = [39, 11]\\nclass = Churn'),\n",
       " Text(0.8333333333333334, 0.25, 'tenure <= 43.5\\ngini = 0.497\\nsamples = 354\\nvalue = [191, 163]\\nclass = Churn'),\n",
       " Text(0.8166666666666667, 0.08333333333333333, 'gini = 0.5\\nsamples = 262\\nvalue = [130, 132]\\nclass = No Churn'),\n",
       " Text(0.85, 0.08333333333333333, 'gini = 0.447\\nsamples = 92\\nvalue = [61, 31]\\nclass = Churn'),\n",
       " Text(0.9333333333333333, 0.4166666666666667, 'payment_type_Electronic check <= 0.5\\ngini = 0.241\\nsamples = 529\\nvalue = [455, 74]\\nclass = Churn'),\n",
       " Text(0.9, 0.25, 'tenure <= 71.5\\ngini = 0.179\\nsamples = 353\\nvalue = [318, 35]\\nclass = Churn'),\n",
       " Text(0.8833333333333333, 0.08333333333333333, 'gini = 0.217\\nsamples = 274\\nvalue = [240, 34]\\nclass = Churn'),\n",
       " Text(0.9166666666666666, 0.08333333333333333, 'gini = 0.025\\nsamples = 79\\nvalue = [78, 1]\\nclass = Churn'),\n",
       " Text(0.9666666666666667, 0.25, 'tenure <= 69.5\\ngini = 0.345\\nsamples = 176\\nvalue = [137, 39]\\nclass = Churn'),\n",
       " Text(0.95, 0.08333333333333333, 'gini = 0.384\\nsamples = 139\\nvalue = [103, 36]\\nclass = Churn'),\n",
       " Text(0.9833333333333333, 0.08333333333333333, 'gini = 0.149\\nsamples = 37\\nvalue = [34, 3]\\nclass = Churn')]"
      ]
     },
     "execution_count": 115,
     "metadata": {},
     "output_type": "execute_result"
    },
    {
     "data": {
      "image/png": "[encoded data removed]",
      "text/plain": [
       "<Figure size 864x504 with 1 Axes>"
      ]
     },
     "metadata": {
      "needs_background": "light"
     },
     "output_type": "display_data"
    }
   ],
   "source": [
    "plt.figure(figsize=(12, 7))\n",
    "plot_tree(telco_tree3, feature_names=x_train.columns, class_names=['Churn', 'No Churn'])"
   ]
  },
  {
   "cell_type": "code",
   "execution_count": 116,
   "metadata": {},
   "outputs": [
    {
     "name": "stdout",
     "output_type": "stream",
     "text": [
      "Accuracy of Decision Tree classifier on training set: 0.80\n"
     ]
    }
   ],
   "source": [
    "print('Accuracy of Decision Tree classifier on training set: {:.2f}'\n",
    "      .format(telco_tree3.score(x_train, y_train)))"
   ]
  },
  {
   "cell_type": "code",
   "execution_count": 117,
   "metadata": {},
   "outputs": [
    {
     "data": {
      "text/plain": [
       "array(['No', 'No', 'No', 'No', 'No'], dtype=object)"
      ]
     },
     "execution_count": 117,
     "metadata": {},
     "output_type": "execute_result"
    }
   ],
   "source": [
    "y_pred3 = telco_tree3.predict(x_train)\n",
    "y_pred3[0:5]"
   ]
  },
  {
   "cell_type": "code",
   "execution_count": 118,
   "metadata": {},
   "outputs": [
    {
     "data": {
      "text/plain": [
       "array([[2901,  403],\n",
       "       [ 505,  691]])"
      ]
     },
     "execution_count": 118,
     "metadata": {},
     "output_type": "execute_result"
    }
   ],
   "source": [
    "confusion_matrix(y_train, y_pred3)"
   ]
  },
  {
   "cell_type": "code",
   "execution_count": 119,
   "metadata": {},
   "outputs": [
    {
     "name": "stdout",
     "output_type": "stream",
     "text": [
      "              precision    recall  f1-score   support\n",
      "\n",
      "          No       0.85      0.88      0.86      3304\n",
      "         Yes       0.63      0.58      0.60      1196\n",
      "\n",
      "    accuracy                           0.80      4500\n",
      "   macro avg       0.74      0.73      0.73      4500\n",
      "weighted avg       0.79      0.80      0.80      4500\n",
      "\n"
     ]
    }
   ],
   "source": [
    "print(classification_report(y_train, y_pred3))"
   ]
  },
  {
   "cell_type": "code",
   "execution_count": 120,
   "metadata": {},
   "outputs": [
    {
     "name": "stdout",
     "output_type": "stream",
     "text": [
      "Accuracy of Decision Tree 1 classifier on validate set: 0.77\n",
      "Accuracy of Decision Tree 2 classifier on validate set: 0.77\n",
      "Accuracy of Decision Tree 3 classifier on validate set: 0.77\n"
     ]
    }
   ],
   "source": [
    "print('Accuracy of Decision Tree 1 classifier on validate set: {:.2f}'\n",
    "     .format(telco_tree.score(x_validate, y_validate)))\n",
    "\n",
    "print('Accuracy of Decision Tree 2 classifier on validate set: {:.2f}'\n",
    "     .format(telco_tree2.score(x_validate, y_validate)))\n",
    "\n",
    "print('Accuracy of Decision Tree 3 classifier on validate set: {:.2f}'\n",
    "     .format(telco_tree3.score(x_validate, y_validate)))"
   ]
  }
 ],
 "metadata": {
  "interpreter": {
   "hash": "38cca0c38332a56087b24af0bc80247f4fced29cb4f7f437d91dc159adec9c4e"
  },
  "kernelspec": {
   "display_name": "Python 3.9.12 ('base')",
   "language": "python",
   "name": "python3"
  },
  "language_info": {
   "codemirror_mode": {
    "name": "ipython",
    "version": 3
   },
   "file_extension": ".py",
   "mimetype": "text/x-python",
   "name": "python",
   "nbconvert_exporter": "python",
   "pygments_lexer": "ipython3",
   "version": "3.9.12"
  },
  "orig_nbformat": 4
 },
 "nbformat": 4,
 "nbformat_minor": 2
}
